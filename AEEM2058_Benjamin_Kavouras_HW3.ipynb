{
 "cells": [
  {
   "attachments": {},
   "cell_type": "markdown",
   "metadata": {},
   "source": [
    "### Assignment 3    |   Ben Kavouras    |   2/3/2023"
   ]
  },
  {
   "attachments": {},
   "cell_type": "markdown",
   "metadata": {},
   "source": [
    "Description of the program"
   ]
  },
  {
   "cell_type": "code",
   "execution_count": 1,
   "metadata": {},
   "outputs": [],
   "source": [
    "# Imports of Fun\n",
    "\n",
    "# These two are to create the directory and filenames of the charts\n",
    "from pathlib import Path\n",
    "\n",
    "# This is to specify the location of my modules\n",
    "import sys as syeet\n",
    "syeet.path.append(str(Path().cwd())+\"/\"+\"Modules\")\n",
    "\n",
    "# Time\n",
    "import time\n",
    "\n",
    "# Numpy and PyPlot\n",
    "import numpy as np\n",
    "import matplotlib.pyplot as plt\n",
    "\n",
    "# My library\n",
    "import kavouras1 as k\n",
    "import textbook as t\n",
    "\n",
    "# Inline outputs of matplotlib\n",
    "%matplotlib inline"
   ]
  },
  {
   "cell_type": "code",
   "execution_count": 2,
   "metadata": {},
   "outputs": [],
   "source": [
    "# Part 2\n",
    "# Create the arrays\n",
    "a2 = np.zeros((20,20))\n",
    "for i in range(len(a2)):\n",
    "    a2[i,i] = 4\n",
    "    if i < 19:\n",
    "        a2[i,i+1] = -1\n",
    "    if i > 0:\n",
    "        a2[i,i-1] = -1\n",
    "a2[0,19] = 1\n",
    "a2[19,0] = 1\n",
    "b2 = np.zeros((20,1))\n",
    "b2[19] = 100"
   ]
  },
  {
   "cell_type": "code",
   "execution_count": 3,
   "metadata": {},
   "outputs": [],
   "source": [
    "def iter1(x,omega):\n",
    "    n = len(x)\n",
    "    x[0] = omega*(x[1]-x[n-1])/4+(1-omega)*x[0]\n",
    "    for i in range(1,n-1):\n",
    "        x[i] = omega*(x[i-1]+x[i+1])/4+(1-omega)*x[i]\n",
    "    x[n-1] = omega*(1-x[0]+x[n-2])/4+(1-omega)*x[n-1]\n",
    "    return x"
   ]
  },
  {
   "cell_type": "code",
   "execution_count": 4,
   "metadata": {},
   "outputs": [
    {
     "name": "stdout",
     "output_type": "stream",
     "text": [
      "The timings for each method:\n",
      " gaussPivot   | 0.0008944000001065433\n",
      " LUpivot      | 0.0006095999997342005\n",
      " cramers      | 0.0002953999937744811\n",
      " numpy        | 0.00026149999757763\n",
      " gaussSeidel  | 9.089999366551638e-05\n",
      " \n",
      "gaussSeidel is the fastest method for this system\n",
      " \n",
      "The norm of the values in r for each method:\n",
      " gaussPivot   | 57.476819213854036\n",
      " LUpivot      | 1.4647112601675285\n",
      " cramers      | 30.563567183631466\n",
      " numpy        | 7.440203107476712e-15\n",
      " guassSeidel  | 138.58218197544036\n",
      " \n",
      "numpy is the most accurate method for this system\n"
     ]
    }
   ],
   "source": [
    "start = time.perf_counter()\n",
    "solve1 = t.gaussPivot(a2,b2)\n",
    "end = time.perf_counter()\n",
    "time1 = end-start\n",
    "\n",
    "r1 = np.dot(a2,solve1) - b2\n",
    "\n",
    "start = time.perf_counter()\n",
    "temp2,seq2 = t.LUdecomp(a2)\n",
    "solve2 = t.LUsolve(temp2,b2,seq2)\n",
    "end = time.perf_counter()\n",
    "time2 = end-start\n",
    "\n",
    "r2 = np.dot(a2,solve2) - b2\n",
    "\n",
    "start = time.perf_counter()\n",
    "solve3 = t.cramers(a2,b2)\n",
    "end = time.perf_counter()\n",
    "time3 = end-start\n",
    "\n",
    "r3 = np.dot(a2,solve3) - b2\n",
    "\n",
    "# Including the built-in numpy function again\n",
    "start = time.perf_counter()\n",
    "solve4 = np.linalg.solve(a2,b2)\n",
    "end = time.perf_counter()\n",
    "time4 = end-start\n",
    "\n",
    "r4 = np.dot(a2,solve4) - b2\n",
    "\n",
    "start = time.perf_counter()\n",
    "xguess = np.zeros(20)\n",
    "solve5,i,omega = t.gaussSeidel(iter1,xguess,1)\n",
    "end = time.perf_counter()\n",
    "time5 = end-start\n",
    "\n",
    "r5 = np.dot(a2,solve5) - b2\n",
    "\n",
    "normr1 = np.linalg.norm(r1)\n",
    "normr2 = np.linalg.norm(r2)\n",
    "normr3 = np.linalg.norm(r3)\n",
    "normr4 = np.linalg.norm(r4)\n",
    "normr5 = np.linalg.norm(r5)\n",
    "\n",
    "print(\"The timings for each method:\")\n",
    "print(\" gaussPivot   | \"+str(time1))\n",
    "print(\" LUpivot      | \"+str(time2))\n",
    "print(\" cramers      | \"+str(time3))\n",
    "print(\" numpy        | \"+str(time4))\n",
    "print(\" gaussSeidel  | \"+str(time5))\n",
    "print(\" \")\n",
    "if time1 < time2 and time1 < time3 and time1 < time4 and time1 < time5:\n",
    "    print(\"gaussPivot is the fastest method for this system\")\n",
    "elif time2 < time1 and time2 < time3 and time2 < time4 and time2 < time5:\n",
    "    print(\"LUpivot is the fastest method for this system\")\n",
    "elif time3 < time1 and time3 < time2 and time3 < time4 and time3 < time5:\n",
    "    print(\"cramers is the fastest method for this system\")\n",
    "elif time4 < time1 and time4 < time2 and time4 < time3 and time4 < time5:\n",
    "    print(\"numpy is the fastest method for this system\")\n",
    "elif time5 < time1 and time5 < time2 and time5 < time3 and time5 < time4:\n",
    "    print(\"gaussSeidel is the fastest method for this system\")\n",
    "\n",
    "print(\" \")\n",
    "print(\"The norm of the values in r for each method:\")\n",
    "print(\" gaussPivot   | \"+str(normr1))\n",
    "print(\" LUpivot      | \"+str(normr2))\n",
    "print(\" cramers      | \"+str(normr3))\n",
    "print(\" numpy        | \"+str(normr4))\n",
    "print(\" guassSeidel  | \"+str(normr5))\n",
    "print(\" \")\n",
    "if normr1 < normr2 and normr1 < normr3 and normr1 < normr4 and normr1 < normr5:\n",
    "    print(\"gaussPivot is the most accurate method for this system\")\n",
    "elif normr2 < normr1 and normr2 < normr3 and normr2 < normr4 and normr2 < normr5:\n",
    "    print(\"LUpivot is the most accurate method for this system\")\n",
    "elif normr3 < normr1 and normr3 < normr2 and normr3 < normr4 and normr3 < normr5:\n",
    "    print(\"cramers is the most accurate method for this system\")\n",
    "elif normr4 < normr1 and normr4 < normr2 and normr4 < normr3 and normr4 < normr5:\n",
    "    print(\"numpy is the most accurate method for this system\")\n",
    "elif normr5 < normr1 and normr5 < normr2 and normr5 < normr3 and normr5 < normr4:\n",
    "    print(\"gaussSeidel is the most accurate method for this system\")\n",
    "else:\n",
    "    print(\"There are multiple accurate methods for this system\")\n"
   ]
  },
  {
   "cell_type": "code",
   "execution_count": 5,
   "metadata": {},
   "outputs": [],
   "source": [
    "# Part 3\n",
    "# Create the arrays\n",
    "a3 = np.zeros((9,9))\n",
    "for i in range(len(a3)):\n",
    "    a3[i,i] = -4\n",
    "    if i < 8:\n",
    "        a3[i,i+1] = 1\n",
    "    if i > 0:\n",
    "        a3[i,i-1] = 1\n",
    "    if i > 2:\n",
    "        a3[i,i-3] = 1\n",
    "    if i < 6:\n",
    "        a3[i,i+3] = 1\n",
    "    if (i+1)%3 == 0 and i < 8:\n",
    "       a3[i,i+1] = 0\n",
    "    if (i)%3 == 0 and i > 0:\n",
    "        a3[i,i-1] = 0\n",
    "b3 = np.zeros((9,1))\n",
    "b3[2] = -100\n",
    "b3[5] = -100\n",
    "b3[6] = -200\n",
    "b3[7] = -200\n",
    "b3[8] = -300"
   ]
  },
  {
   "cell_type": "code",
   "execution_count": null,
   "metadata": {},
   "outputs": [],
   "source": []
  }
 ],
 "metadata": {
  "kernelspec": {
   "display_name": "Python 3",
   "language": "python",
   "name": "python3"
  },
  "language_info": {
   "codemirror_mode": {
    "name": "ipython",
    "version": 3
   },
   "file_extension": ".py",
   "mimetype": "text/x-python",
   "name": "python",
   "nbconvert_exporter": "python",
   "pygments_lexer": "ipython3",
   "version": "3.10.4"
  },
  "orig_nbformat": 4,
  "vscode": {
   "interpreter": {
    "hash": "c9ec52ca91de8ba367d4f81a3b04a2064702ca4e2f463f5904d8a41cc6fef214"
   }
  }
 },
 "nbformat": 4,
 "nbformat_minor": 2
}
