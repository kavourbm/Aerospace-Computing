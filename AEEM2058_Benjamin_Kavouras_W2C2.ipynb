{
 "cells": [
  {
   "attachments": {},
   "cell_type": "markdown",
   "metadata": {},
   "source": [
    "### Week 2 Class 2    |   Ben Kavouras    |   1/18/2023"
   ]
  },
  {
   "attachments": {},
   "cell_type": "markdown",
   "metadata": {},
   "source": [
    "Test program for GaussPivot"
   ]
  },
  {
   "cell_type": "code",
   "execution_count": 1,
   "metadata": {},
   "outputs": [],
   "source": [
    "# Imports of Fun\n",
    "\n",
    "# These two are to create the directory and filenames of the charts\n",
    "from pathlib import Path\n",
    "from datetime import datetime as dt\n",
    "\n",
    "# This is to specify the location of my modules\n",
    "import sys as syeet\n",
    "syeet.path.append(str(Path().cwd())+\"/\"+\"Modules\")\n",
    "\n",
    "# Numpy and PyPlot\n",
    "import numpy as np\n",
    "import matplotlib.pyplot as plt\n",
    "\n",
    "# My library\n",
    "import kavouras1 as k\n",
    "import textbook as t\n",
    "\n",
    "# Inline outputs of matplotlib\n",
    "%matplotlib inline\n",
    "\n",
    "# quit variable to stop the program\n",
    "quit = False"
   ]
  },
  {
   "cell_type": "code",
   "execution_count": 2,
   "metadata": {},
   "outputs": [],
   "source": [
    "def accuracy(a,b,x):\n",
    "    # acc=accuracy(A,B,x)\n",
    "    # Calculates the accuracy of a Matrix system solver \n",
    "    # by computing the norm of Ax-b\n",
    "    return np.linalg.norm(np.dot(a,x)-b)"
   ]
  },
  {
   "cell_type": "code",
   "execution_count": 3,
   "metadata": {},
   "outputs": [
    {
     "name": "stdout",
     "output_type": "stream",
     "text": [
      "A= [[ 1.5  2.  -3.5  4. ]\n",
      " [ 5.   6.   7.   8. ]\n",
      " [ 4.   3.   2.   1. ]\n",
      " [-8.   7.   6.  -5. ]]\n",
      "B= [[ 4]\n",
      " [26]\n",
      " [10]\n",
      " [ 0]]\n",
      "The error in the result is = 15.337861650177967\n"
     ]
    }
   ],
   "source": [
    "a=np.array([[1.5,2,-3.5,4],[5,6,7,8],[4,3,2,1],[-8,7,6,-5]],dtype=float)\n",
    "b=np.array([[4],[26],[10],[0]])\n",
    "x=np.zeros((len(b),1))\n",
    "\n",
    "x=t.gaussPivot(np.copy(a),np.copy(b))\n",
    "\n",
    "print('A=',a)\n",
    "print('B=',b)\n",
    "\n",
    "acc=accuracy(a,b,x)\n",
    "print('The error in the result is =',acc)"
   ]
  }
 ],
 "metadata": {
  "kernelspec": {
   "display_name": "Python 3",
   "language": "python",
   "name": "python3"
  },
  "language_info": {
   "codemirror_mode": {
    "name": "ipython",
    "version": 3
   },
   "file_extension": ".py",
   "mimetype": "text/x-python",
   "name": "python",
   "nbconvert_exporter": "python",
   "pygments_lexer": "ipython3",
   "version": "3.10.4 (tags/v3.10.4:9d38120, Mar 23 2022, 23:13:41) [MSC v.1929 64 bit (AMD64)]"
  },
  "orig_nbformat": 4,
  "vscode": {
   "interpreter": {
    "hash": "c9ec52ca91de8ba367d4f81a3b04a2064702ca4e2f463f5904d8a41cc6fef214"
   }
  }
 },
 "nbformat": 4,
 "nbformat_minor": 2
}
