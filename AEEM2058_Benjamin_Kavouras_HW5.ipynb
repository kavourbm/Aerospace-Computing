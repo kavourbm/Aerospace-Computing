{
 "cells": [
  {
   "attachments": {},
   "cell_type": "markdown",
   "metadata": {},
   "source": [
    "### Assignment 5    |   Ben Kavouras    |   2/24/2023"
   ]
  },
  {
   "cell_type": "code",
   "execution_count": 27,
   "metadata": {},
   "outputs": [],
   "source": [
    "# Imports of Fun\n",
    "\n",
    "# These two are to create the directory and filenames of the charts\n",
    "from pathlib import Path\n",
    "\n",
    "# This is to specify the location of my modules\n",
    "import sys as syeet\n",
    "syeet.path.append(str(Path().cwd())+\"/\"+\"Modules\")\n",
    "\n",
    "# Time\n",
    "import time\n",
    "import math\n",
    "\n",
    "# Numpy and PyPlot\n",
    "import numpy as np\n",
    "import matplotlib.pyplot as plt\n",
    "\n",
    "# My library\n",
    "import kavouras1 as k\n",
    "import textbook as t\n",
    "\n",
    "# Inline outputs of matplotlib\n",
    "%matplotlib inline"
   ]
  },
  {
   "cell_type": "code",
   "execution_count": 28,
   "metadata": {},
   "outputs": [],
   "source": [
    "def shockdefmach(Theta,Beta,Mach):\n",
    "    gamma = 1.4\n",
    "    def f(Beta,Mach,gamma):\n",
    "        return np.arctan(2*(1/np.tan(Beta))*((Mach**2)*(np.sin(Beta)**2)-1)/((Mach**2)*(gamma+np.cos(2*Beta))+2))\n",
    "    \n",
    "    def dBeta(Beta):\n",
    "        return ((2*Mach**2)*(((1/np.sin(Beta))**2)*((Mach**2)*(gamma+3)-6)+(gamma+3)*((1/np.sin(Beta))**4)-2*(Mach**2)*(gamma+2)+4))/(((1/np.sin(Beta))**2)*((Mach**4)*((gamma+3)**2)-(8*(Mach**2))-4)+(4*((1/np.sin(Beta))**4))-(4*(Mach**4)*(gamma+2))+(8*(Mach**2)))\n",
    "\n",
    "    def dMach(Mach):\n",
    "        return (4*Mach*(1/np.tan(Beta))*(np.cos(2*Beta)+gamma+2))/(2*(Mach**2)*np.cos(2*Beta)*((Mach**2)*(gamma+2)-2)+(4*((1/np.sin(Beta))**2))+((Mach**4)*(gamma*(gamma+4)+5))-(4*(Mach**2))-4)\n",
    "\n",
    "    if type(Theta) == str:\n",
    "        Beta = Beta*(np.pi/180)\n",
    "        Theta = f(Beta,Mach,gamma)*(180/np.pi)\n",
    "        print(\"Theta = \"+str(Theta))\n",
    "        return Theta\n",
    "\n",
    "    elif type(Beta) == str:\n",
    "        Theta = Theta*(np.pi/180)\n",
    "        def fBeta(x):\n",
    "            return f(x,Mach,gamma)\n",
    "        zeros = t.newtonRaphson(fBeta,dBeta,0,90)\n",
    "        print(zeros)\n",
    "    \n",
    "    elif type(Mach) == str:\n",
    "        Theta = Theta*(np.pi/180)\n",
    "        Beta = Beta*(np.pi/180)\n",
    "        def fMach(x):\n",
    "            return f(Beta,x,gamma)\n",
    "        zeros = t.newtonRaphson(fMach,dMach,0,90)\n",
    "        print(zeros)\n"
   ]
  },
  {
   "cell_type": "code",
   "execution_count": 29,
   "metadata": {},
   "outputs": [
    {
     "name": "stdout",
     "output_type": "stream",
     "text": [
      "Theta = -15.33206378852667\n",
      "Root is not bracketed\n",
      "0\n"
     ]
    },
    {
     "name": "stderr",
     "output_type": "stream",
     "text": [
      "/tmp/ipykernel_1407/941983270.py:4: RuntimeWarning: divide by zero encountered in double_scalars\n",
      "  return np.arctan(2*(1/np.tan(Beta))*((Mach**2)*(np.sin(Beta)**2)-1)/((Mach**2)*(gamma+np.cos(2*Beta))+2))\n"
     ]
    }
   ],
   "source": [
    "Theta = shockdefmach(\"x\",20,2)\n",
    "Beta = shockdefmach(Theta,\"x\",2)"
   ]
  },
  {
   "cell_type": "code",
   "execution_count": 30,
   "metadata": {},
   "outputs": [
    {
     "name": "stdout",
     "output_type": "stream",
     "text": [
      "The rocket will hit 335 m/s at about 70.88 seconds\n"
     ]
    }
   ],
   "source": [
    "# Part 3\n",
    "\n",
    "def f19(x):\n",
    "    return 2510*np.log((2.8*10**6)/((2.8*10**6)-((13.3*10**3)*x)))-(9.81*x)-335\n",
    "\n",
    "zeros19 = t.bisection(f19,0,100)\n",
    "print(\"The rocket will hit 335 m/s at about %5.2f seconds\" %(zeros19))"
   ]
  },
  {
   "cell_type": "code",
   "execution_count": 31,
   "metadata": {},
   "outputs": [
    {
     "name": "stdout",
     "output_type": "stream",
     "text": [
      "6 is a root of the function in problem 3\n",
      "The roots of the function in problem 11 are 1, -1, 2, -1, 156, \n"
     ]
    },
    {
     "name": "stderr",
     "output_type": "stream",
     "text": [
      "/tmp/ipykernel_1407/3769085097.py:14: ComplexWarning: Casting complex values to real discards the imaginary part\n",
      "  str11 += (str(int(i))+\", \")\n"
     ]
    }
   ],
   "source": [
    "# Part 4\n",
    "zeros3 = t.polyRoots(np.array([-7992,6588,-2178,361,-30,1]))\n",
    "\n",
    "for i in zeros3:\n",
    "    if np.round(i) == 6:\n",
    "        print(\"6 is a root of the function in problem 3\")\n",
    "        break\n",
    "\n",
    "zeros11 = t.polyRoots(np.array([-624,4,780,-5,-156,1]))\n",
    "\n",
    "str11 = \"The roots of the function in problem 11 are \"\n",
    "\n",
    "for i in zeros11:\n",
    "    str11 += (str(int(i))+\", \")\n",
    "\n",
    "print(str11)"
   ]
  }
 ],
 "metadata": {
  "kernelspec": {
   "display_name": "base",
   "language": "python",
   "name": "python3"
  },
  "language_info": {
   "codemirror_mode": {
    "name": "ipython",
    "version": 3
   },
   "file_extension": ".py",
   "mimetype": "text/x-python",
   "name": "python",
   "nbconvert_exporter": "python",
   "pygments_lexer": "ipython3",
   "version": "3.9.13"
  },
  "orig_nbformat": 4,
  "vscode": {
   "interpreter": {
    "hash": "f26c5988757f4ae4eb6ac8f179a30209cca927f29288adec65681e3ffa01b923"
   }
  }
 },
 "nbformat": 4,
 "nbformat_minor": 2
}
