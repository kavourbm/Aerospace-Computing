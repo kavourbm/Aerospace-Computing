{
 "cells": [
  {
   "cell_type": "code",
   "execution_count": 48,
   "metadata": {},
   "outputs": [],
   "source": [
    "# Imports of Fun\n",
    "\n",
    "# These two are to create the directory and filenames of the charts\n",
    "from pathlib import Path\n",
    "\n",
    "# This is to specify the location of my modules\n",
    "import sys as syeet\n",
    "syeet.path.append(str(Path().cwd())+\"/\"+\"Modules\")\n",
    "\n",
    "# Time\n",
    "import time\n",
    "import math\n",
    "\n",
    "# Numpy and PyPlot\n",
    "import numpy as np\n",
    "import matplotlib.pyplot as plt\n",
    "\n",
    "# My library\n",
    "import kavouras1 as k\n",
    "import textbook as t\n",
    "\n",
    "# Inline outputs of matplotlib\n",
    "%matplotlib inline"
   ]
  },
  {
   "cell_type": "code",
   "execution_count": 49,
   "metadata": {},
   "outputs": [
    {
     "name": "stdout",
     "output_type": "stream",
     "text": [
      "[[ 8  5  2  5  3  6]\n",
      " [ 0 -8  1  1 -7 -9]\n",
      " [ 3  4  5 -2 -5  4]\n",
      " [-6 -6 -6  1 -2  3]\n",
      " [-9  8 -1  2 -5  3]\n",
      " [-7  5 -1 -6 -9  7]]\n",
      "Determinant = 11200\n"
     ]
    }
   ],
   "source": [
    "# Question 2\n",
    "# Part A+B\n",
    "# M#: M13852536\n",
    "\n",
    "Marray = np.array([8, 5, 2, 5, 3, 6])\n",
    "Marray2 = np.vstack((Marray,np.random.randint(-10,10,(5,6))))\n",
    "numb = np.prod(np.diagonal(Marray2))\n",
    "while numb == 0:\n",
    "    Marray2 = np.vstack((Marray,np.random.randint(-10,10,(5,6))))\n",
    "    numb = np.prod(np.diagonal(Marray2))\n",
    "print(Marray2)\n",
    "print(\"Determinant = \"+str(numb))"
   ]
  },
  {
   "attachments": {},
   "cell_type": "markdown",
   "metadata": {},
   "source": [
    "This creates a 6x6 matrix that uses my M number as the first row, and random values as the second row. Then, it gets the determinant, and if this value doesn't equal zero, the matrix is non-singular. if this value does equal zero, the matrix is singular and it regenerates the random values."
   ]
  },
  {
   "cell_type": "code",
   "execution_count": 50,
   "metadata": {},
   "outputs": [
    {
     "name": "stdout",
     "output_type": "stream",
     "text": [
      "[[ 58]\n",
      " [-44]\n",
      " [ 18]\n",
      " [-32]\n",
      " [ -4]\n",
      " [-22]]\n"
     ]
    }
   ],
   "source": [
    "# Part C\n",
    "Barray = np.dot(Marray2,np.array([[2],[2],[2],[2],[2],[2]]))\n",
    "print(Barray)\n"
   ]
  },
  {
   "cell_type": "code",
   "execution_count": 51,
   "metadata": {},
   "outputs": [
    {
     "name": "stdout",
     "output_type": "stream",
     "text": [
      "[[2.]\n",
      " [2.]\n",
      " [2.]\n",
      " [2.]\n",
      " [2.]\n",
      " [2.]]\n"
     ]
    }
   ],
   "source": [
    "# Part D\n",
    "x = np.linalg.solve(Marray2,Barray)\n",
    "print(x)"
   ]
  },
  {
   "cell_type": "code",
   "execution_count": 52,
   "metadata": {},
   "outputs": [
    {
     "name": "stdout",
     "output_type": "stream",
     "text": [
      "Unrounded Norm:\n",
      "1.0048591735576161e-14\n",
      "Rounded Norm:\n",
      "0.0\n"
     ]
    }
   ],
   "source": [
    "# Part E\n",
    "residual = np.dot(Marray2,x) - Barray\n",
    "norm = np.linalg.norm(residual)\n",
    "print(\"Unrounded Norm:\")\n",
    "print(norm)\n",
    "norm = np.around(norm,decimals=2)\n",
    "print(\"Rounded Norm:\")\n",
    "print(norm)\n"
   ]
  },
  {
   "attachments": {},
   "cell_type": "markdown",
   "metadata": {},
   "source": [
    "If the norm of the residual is zero, that means the difference between the inital B vector and the computed B vector with the solution vector is zero. Because the norm is very, very close to zero, it can be assumed there is no difference between the initial and calculated B vector, and the solution vector is correct."
   ]
  }
 ],
 "metadata": {
  "kernelspec": {
   "display_name": "base",
   "language": "python",
   "name": "python3"
  },
  "language_info": {
   "codemirror_mode": {
    "name": "ipython",
    "version": 3
   },
   "file_extension": ".py",
   "mimetype": "text/x-python",
   "name": "python",
   "nbconvert_exporter": "python",
   "pygments_lexer": "ipython3",
   "version": "3.9.13"
  },
  "orig_nbformat": 4,
  "vscode": {
   "interpreter": {
    "hash": "f26c5988757f4ae4eb6ac8f179a30209cca927f29288adec65681e3ffa01b923"
   }
  }
 },
 "nbformat": 4,
 "nbformat_minor": 2
}
