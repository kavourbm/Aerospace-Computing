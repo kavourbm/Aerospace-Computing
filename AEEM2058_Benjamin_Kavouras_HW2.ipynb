{
 "cells": [
  {
   "attachments": {},
   "cell_type": "markdown",
   "metadata": {},
   "source": [
    "### Assignment 2    |   Ben Kavouras    |   1/27/2023"
   ]
  },
  {
   "attachments": {},
   "cell_type": "markdown",
   "metadata": {},
   "source": [
    "This program compares the time it takes to run through the three methods of solving linear equations. it also verifies the accuracy of computing with the three methods."
   ]
  },
  {
   "cell_type": "code",
   "execution_count": 37,
   "metadata": {},
   "outputs": [],
   "source": [
    "# Imports of Fun\n",
    "\n",
    "# These two are to create the directory and filenames of the charts\n",
    "from pathlib import Path\n",
    "from datetime import datetime as dt\n",
    "\n",
    "# This is to specify the location of my modules\n",
    "import sys as syeet\n",
    "syeet.path.append(str(Path().cwd())+\"/\"+\"Modules\")\n",
    "\n",
    "# Time\n",
    "import time\n",
    "\n",
    "# Numpy and PyPlot\n",
    "import numpy as np\n",
    "import matplotlib.pyplot as plt\n",
    "\n",
    "# My library\n",
    "import kavouras1 as k\n",
    "import textbook as t\n",
    "\n",
    "# Inline outputs of matplotlib\n",
    "%matplotlib inline\n",
    "\n",
    "# quit variable to stop the program\n",
    "quit = False"
   ]
  },
  {
   "cell_type": "code",
   "execution_count": 38,
   "metadata": {},
   "outputs": [
    {
     "name": "stdout",
     "output_type": "stream",
     "text": [
      "The timings for each method:\n",
      " gaussPivot | 0.0008642120001240983\n",
      " LUpivot    | 0.00041658099962660344\n",
      " cramers    | 0.00016717999960746965\n",
      " \n",
      "cramers is the fastest method\n",
      " \n",
      "The mean of the values in r for each method:\n",
      " gaussPivot | -5.375\n",
      " LUpivot    | 0.0\n",
      " cramers    | 2.145185475651269\n",
      " \n",
      "gaussPivot is the most accurate method\n"
     ]
    }
   ],
   "source": [
    "# Part 3\n",
    "a = np.array([[10,-2,-1,2,3,1,-4,7],[5,11,3,10,-3,3,3,-4],[7,12,1,5,3,-12,2,3],[8,7,-2,1,3,2,2,4],[2,-15,-1,1,4,-1,8,3],[4,2,9,1,12,-1,4,1],[-1,4,-7,-1,1,1,-1,-3],[-1,3,4,1,3,-4,7,6]])\n",
    "b = np.array([[0],[12],[-5],[3],[-25],[-26],[9],[-7]])\n",
    "\n",
    "# Solving with gaussPivot\n",
    "start = time.perf_counter()\n",
    "output1 = t.gaussPivot(a,b)\n",
    "end = time.perf_counter()\n",
    "time1 = end-start\n",
    "#print(\"The solution with gaussPivot is \"+str(output1)+\", computed in \"+str(time1)+\" seconds\")\n",
    "\n",
    "r1 = np.dot(a,output1) - b\n",
    "#print(str(r1))\n",
    "# Solving with LUpivot\n",
    "start = time.perf_counter()\n",
    "tempa,seq = t.LUdecomp(a)\n",
    "output2 = t.LUsolve(tempa,b,seq)\n",
    "end = time.perf_counter()\n",
    "time2 = end-start\n",
    "#print(\"The solution with LUpivot is \"+str(output2)+\", computed in \"+str(time2)+\" seconds\")\n",
    "\n",
    "r2 = b - np.dot(a,output2)\n",
    "#print(str(r2))\n",
    "\n",
    "# Solving with cramers\n",
    "start = time.perf_counter()\n",
    "output3 = t.cramers(a,b)\n",
    "end = time.perf_counter()\n",
    "time3 = end-start\n",
    "#print(\"The solution with Cramers rule is \"+str(output3)+\", computed in \"+str(time3)+\" seconds\")\n",
    "\n",
    "r3 = np.dot(a,output3) - b\n",
    "#print(str(r3))\n",
    "\n",
    "print(\"The timings for each method:\")\n",
    "print(\" gaussPivot | \"+str(time1))\n",
    "print(\" LUpivot    | \"+str(time2))\n",
    "print(\" cramers    | \"+str(time3))\n",
    "if time1 < time2 and time1 < time3:\n",
    "    print(\" \")\n",
    "    print(\"gaussPivot is the fastest method\")\n",
    "elif time2 < time1 and time2 < time3:\n",
    "    print(\" \")\n",
    "    print(\"LUpivot is the fastest method\")\n",
    "elif time3 < time1 and time3 <  time2:\n",
    "    print(\" \")\n",
    "    print(\"cramers is the fastest method\")\n",
    "\n",
    "avgr1 = 0\n",
    "for i in r1:\n",
    "    avgr1 += i\n",
    "avgr1 = float(avgr1/len(r1))\n",
    "avgr2 = 0\n",
    "for i in r2:\n",
    "    avgr2 += i\n",
    "avgr2 = float(avgr2/len(r2))\n",
    "avgr3 = 0\n",
    "for i in r3:\n",
    "    avgr3 += i\n",
    "avgr3 = float(avgr3/len(r3))\n",
    "print(\" \")\n",
    "print(\"The mean of the values in r for each method:\")\n",
    "print(\" gaussPivot | \"+str(avgr1))\n",
    "print(\" LUpivot    | \"+str(avgr2))\n",
    "print(\" cramers    | \"+str(avgr3))\n",
    "if avgr1 < avgr2 and avgr1 < avgr3:\n",
    "    print(\" \")\n",
    "    print(\"gaussPivot is the most accurate method\")\n",
    "elif avgr2 < avgr1 and avgr2 < avgr3:\n",
    "    print(\" \")\n",
    "    print(\"LUpivot is the most accurate method\")\n",
    "elif avgr3 < avgr1 and avgr3 <  avgr2:\n",
    "    print(\" \")\n",
    "    print(\"cramers is the most accurate method\")"
   ]
  },
  {
   "cell_type": "code",
   "execution_count": null,
   "metadata": {},
   "outputs": [],
   "source": [
    "# Part 4\n"
   ]
  }
 ],
 "metadata": {
  "kernelspec": {
   "display_name": "base",
   "language": "python",
   "name": "python3"
  },
  "language_info": {
   "codemirror_mode": {
    "name": "ipython",
    "version": 3
   },
   "file_extension": ".py",
   "mimetype": "text/x-python",
   "name": "python",
   "nbconvert_exporter": "python",
   "pygments_lexer": "ipython3",
   "version": "3.9.13"
  },
  "orig_nbformat": 4,
  "vscode": {
   "interpreter": {
    "hash": "f26c5988757f4ae4eb6ac8f179a30209cca927f29288adec65681e3ffa01b923"
   }
  }
 },
 "nbformat": 4,
 "nbformat_minor": 2
}
