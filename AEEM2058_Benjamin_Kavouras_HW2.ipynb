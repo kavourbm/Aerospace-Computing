{
 "cells": [
  {
   "cell_type": "markdown",
   "metadata": {},
   "source": [
    "### Assignment 2    |   Ben Kavouras    |   1/27/2023"
   ]
  },
  {
   "cell_type": "markdown",
   "metadata": {},
   "source": [
    "This program compares the time it takes to run through the three methods of solving linear equations. it also verifies the accuracy of computing with the three methods."
   ]
  },
  {
   "cell_type": "code",
   "execution_count": 1,
   "metadata": {},
   "outputs": [],
   "source": [
    "# Imports of Fun\n",
    "\n",
    "# These two are to create the directory and filenames of the charts\n",
    "from pathlib import Path\n",
    "\n",
    "# This is to specify the location of my modules\n",
    "import sys as syeet\n",
    "syeet.path.append(str(Path().cwd())+\"/\"+\"Modules\")\n",
    "\n",
    "# Time\n",
    "import time\n",
    "\n",
    "# Numpy and PyPlot\n",
    "import numpy as np\n",
    "import matplotlib.pyplot as plt\n",
    "\n",
    "# My library\n",
    "import kavouras1 as k\n",
    "import textbook as t\n",
    "\n",
    "# Inline outputs of matplotlib\n",
    "%matplotlib inline"
   ]
  },
  {
   "cell_type": "code",
   "execution_count": 2,
   "metadata": {},
   "outputs": [],
   "source": [
    "def runall(a,b,number):\n",
    "\n",
    "    # Solving with gaussPivot\n",
    "    start = time.perf_counter()\n",
    "    output1 = t.gaussPivot(a,b)\n",
    "    if type(output1) == int:\n",
    "        return 0\n",
    "    end = time.perf_counter()\n",
    "    time1 = end-start\n",
    "\n",
    "    r1 = np.dot(a,output1) - b\n",
    "\n",
    "    # Solving with LUpivot\n",
    "    start = time.perf_counter()\n",
    "    tempa,seq = t.LUdecomp(a)\n",
    "    output2 = t.LUsolve(tempa,b,seq)\n",
    "    end = time.perf_counter()\n",
    "    time2 = end-start\n",
    "\n",
    "    r2 = np.dot(a,output2) - b\n",
    "\n",
    "    # Solving with cramers\n",
    "    start = time.perf_counter()\n",
    "    output3 = t.cramers(a,b)\n",
    "    end = time.perf_counter()\n",
    "    time3 = end-start\n",
    "\n",
    "    r3 = np.dot(a,output3) - b\n",
    "\n",
    "    # numpy also has a built-in method; 'linalg.solve'. This will be tested alongside the other three\n",
    "    start = time.perf_counter()\n",
    "    output4 = np.linalg.solve(a,b)\n",
    "    end = time.perf_counter()\n",
    "    time4 = end-start\n",
    "\n",
    "    r4 = np.dot(a,output4) - b\n",
    "\n",
    "    print(\"The timings for each method for a \"+str(number)+\" equation system:\")\n",
    "    print(\" gaussPivot | \"+str(time1))\n",
    "    print(\" LUpivot    | \"+str(time2))\n",
    "    print(\" cramers    | \"+str(time3))\n",
    "    print(\" numpy      | \"+str(time4))\n",
    "    if time1 < time2 and time1 < time3 and time1 < time4:\n",
    "        print(\" \")\n",
    "        print(\"gaussPivot is the fastest method for a \"+str(number)+\" equation system\")\n",
    "    elif time2 < time1 and time2 < time3 and time2 < time4:\n",
    "        print(\" \")\n",
    "        print(\"LUpivot is the fastest method for a \"+str(number)+\" equation system\")\n",
    "    elif time3 < time1 and time3 < time2 and time3 < time4:\n",
    "        print(\" \")\n",
    "        print(\"cramers is the fastest method for a \"+str(number)+\" equation system\")\n",
    "    elif time4 < time1  and time4 < time2 and time4 < time3:\n",
    "        print(\" \")\n",
    "        print(\"numpy is the fastest method for a \"+str(number)+\" equation system\")\n",
    "\n",
    "    avgr1 = k.aravg(r1)\n",
    "    avgr2 = k.aravg(r2)\n",
    "    avgr3 = k.aravg(r3)\n",
    "    avgr4 = k.aravg(r4)\n",
    "    print(\" \")\n",
    "    print(\"The mean of the values in r for each method:\")\n",
    "    print(\" gaussPivot | \"+str(avgr1))\n",
    "    print(\" LUpivot    | \"+str(avgr2))\n",
    "    print(\" cramers    | \"+str(avgr3))\n",
    "    print(\" numpy      | \"+str(avgr4))\n",
    "    if avgr1 < avgr2 and avgr1 < avgr3 and avgr1 < avgr4:\n",
    "        print(\" \")\n",
    "        print(\"gaussPivot is the most accurate method for a \"+str(number)+\" equation system\")\n",
    "    elif avgr2 < avgr1 and avgr2 < avgr3 and avgr2 < avgr4:\n",
    "        print(\" \")\n",
    "        print(\"LUpivot is the most accurate method for a \"+str(number)+\" equation system\")\n",
    "    elif avgr3 < avgr1 and avgr3 < avgr2 and avgr3 < avgr4:\n",
    "        print(\" \")\n",
    "        print(\"cramers is the most accurate method for a \"+str(number)+\" equation system\")\n",
    "    elif avgr4 < avgr1 and avgr4 < avgr2 and avgr4 < avgr3:\n",
    "        print(\" \")\n",
    "        print(\"numpy is the most accurate method for a \"+str(number)+\" equation system\")\n",
    "    else:\n",
    "        print(\" \")\n",
    "        print(\"There are multiple accurate methods for a \"+str(number)+\" equation system\")\n",
    "\n",
    "    return np.array([time1,time2,time3,time4])"
   ]
  },
  {
   "cell_type": "code",
   "execution_count": 3,
   "metadata": {},
   "outputs": [
    {
     "name": "stdout",
     "output_type": "stream",
     "text": [
      "Part 3\n",
      " \n",
      "The timings for each method for a 8 equation system:\n",
      " gaussPivot | 0.000680342999999084\n",
      " LUpivot    | 0.0002747320000366926\n",
      " cramers    | 0.00017361499999424268\n",
      " numpy      | 4.4881000007990224e-05\n",
      " \n",
      "numpy is the fastest method for a 8 equation system\n",
      " \n",
      "The mean of the values in r for each method:\n",
      " gaussPivot | 5.375\n",
      " LUpivot    | 0.0\n",
      " cramers    | 0.05283418407270127\n",
      " numpy      | 4.163336342344337e-17\n",
      " \n",
      "LUpivot is the most accurate method for a 8 equation system\n"
     ]
    }
   ],
   "source": [
    "# Part 3\n",
    "a = np.array([[10,-2,-1,2,3,1,-4,7],[5,11,3,10,-3,3,3,-4],[7,12,1,5,3,-12,2,3],[8,7,-2,1,3,2,2,4],[2,-15,-1,1,4,-1,8,3],[4,2,9,1,12,-1,4,1],[-1,4,-7,-1,1,1,-1,-3],[-1,3,4,1,3,-4,7,6]])\n",
    "b = np.array([[0],[12],[-5],[3],[-25],[-26],[9],[-7]])\n",
    "\n",
    "print(\"Part 3\")\n",
    "print(\" \")\n",
    "\n",
    "notimportant = runall(a,b,8)"
   ]
  },
  {
   "cell_type": "code",
   "execution_count": 4,
   "metadata": {},
   "outputs": [
    {
     "name": "stdout",
     "output_type": "stream",
     "text": [
      "Part 4\n",
      " \n",
      "2 Equation System\n",
      "The timings for each method for a 2 equation system:\n",
      " gaussPivot | 0.00047882999996318176\n",
      " LUpivot    | 6.962800000565039e-05\n",
      " cramers    | 4.935200001909834e-05\n",
      " numpy      | 1.4137999983176996e-05\n",
      " \n",
      "numpy is the fastest method for a 2 equation system\n",
      " \n",
      "The mean of the values in r for each method:\n",
      " gaussPivot | 0.0\n",
      " LUpivot    | 0.0\n",
      " cramers    | 0.0\n",
      " numpy      | 0.0\n",
      " \n",
      "There are multiple accurate methods for a 2 equation system\n"
     ]
    }
   ],
   "source": [
    "# Part 4\n",
    "print(\"Part 4\")\n",
    "print(\" \")\n",
    "print(\"2 Equation System\")\n",
    "\n",
    "times2 = 0\n",
    "while type(times2) == int:\n",
    "    a2 = np.random.randint(-10,10,(2,2))\n",
    "    b2 = np.random.randint(-10,10,(2,1))\n",
    "    times2 = runall(a2,b2,2)"
   ]
  },
  {
   "cell_type": "code",
   "execution_count": 5,
   "metadata": {},
   "outputs": [
    {
     "name": "stdout",
     "output_type": "stream",
     "text": [
      "4 Equation System\n",
      "The timings for each method for a 4 equation system:\n",
      " gaussPivot | 0.0007696960000203035\n",
      " LUpivot    | 0.00021469299997534108\n",
      " cramers    | 7.369399997969595e-05\n",
      " numpy      | 2.154100002371706e-05\n",
      " \n",
      "numpy is the fastest method for a 4 equation system\n",
      " \n",
      "The mean of the values in r for each method:\n",
      " gaussPivot | 2.75\n",
      " LUpivot    | 13.25\n",
      " cramers    | 7.208333333333337\n",
      " numpy      | 2.7755575615628914e-16\n",
      " \n",
      "numpy is the most accurate method for a 4 equation system\n"
     ]
    }
   ],
   "source": [
    "print(\"4 Equation System\")\n",
    "\n",
    "times4 = 0\n",
    "while type(times4) == int:\n",
    "    a4 = np.random.randint(-10,10,(4,4))\n",
    "    b4 = np.random.randint(-10,10,(4,1))\n",
    "    times4 = runall(a4,b4,4)"
   ]
  },
  {
   "cell_type": "code",
   "execution_count": 6,
   "metadata": {},
   "outputs": [
    {
     "name": "stdout",
     "output_type": "stream",
     "text": [
      "6 Equation System\n",
      "The timings for each method for a 6 equation system:\n",
      " gaussPivot | 0.0010296519999997145\n",
      " LUpivot    | 0.00027784499997096646\n",
      " cramers    | 9.20319999977437e-05\n",
      " numpy      | 1.8185999977049505e-05\n",
      " \n",
      "numpy is the fastest method for a 6 equation system\n",
      " \n",
      "The mean of the values in r for each method:\n",
      " gaussPivot | 4.333333333333333\n",
      " LUpivot    | 0.16666666666666666\n",
      " cramers    | 0.16666666666666666\n",
      " numpy      | 1.9371078815074345e-17\n",
      " \n",
      "numpy is the most accurate method for a 6 equation system\n"
     ]
    }
   ],
   "source": [
    "print(\"6 Equation System\")\n",
    "\n",
    "times6 = 0\n",
    "while type(times6) == int:\n",
    "    a6 = np.random.randint(-10,10,(6,6))\n",
    "    b6 = np.random.randint(-10,10,(6,1))\n",
    "    times6 = runall(a6,b6,6)"
   ]
  },
  {
   "cell_type": "code",
   "execution_count": 7,
   "metadata": {},
   "outputs": [
    {
     "name": "stdout",
     "output_type": "stream",
     "text": [
      "8 Equation System\n",
      "The timings for each method for a 8 equation system:\n",
      " gaussPivot | 0.001622379999957957\n",
      " LUpivot    | 0.0010336109999684595\n",
      " cramers    | 0.00010852000002614659\n",
      " numpy      | 2.1875000015825208e-05\n",
      " \n",
      "numpy is the fastest method for a 8 equation system\n",
      " \n",
      "The mean of the values in r for each method:\n",
      " gaussPivot | 0.375\n",
      " LUpivot    | 1.280144069904579e+17\n",
      " cramers    | 0.875\n",
      " numpy      | 1.249000902703301e-16\n",
      " \n",
      "numpy is the most accurate method for a 8 equation system\n"
     ]
    },
    {
     "name": "stderr",
     "output_type": "stream",
     "text": [
      "/home/therealkavouras/Documents/Spring23/Aerospace-Computing/Modules/textbook.py:89: RuntimeWarning: divide by zero encountered in true_divide\n",
      "  x[n-1] = x[n-1]/a[n-1,n-1]\n"
     ]
    }
   ],
   "source": [
    "print(\"8 Equation System\")\n",
    "\n",
    "times8 = 0\n",
    "while type(times8) == int:\n",
    "    a8 = np.random.randint(-10,10,(8,8))\n",
    "    b8 = np.random.randint(-10,10,(8,1))\n",
    "    times8 = runall(a8,b8,8)"
   ]
  },
  {
   "cell_type": "code",
   "execution_count": 8,
   "metadata": {},
   "outputs": [
    {
     "name": "stdout",
     "output_type": "stream",
     "text": [
      "12 Equation System\n",
      "The timings for each method for a 12 equation system:\n",
      " gaussPivot | 0.002156392000017604\n",
      " LUpivot    | 0.000845421000008173\n",
      " cramers    | 0.00023541900003465344\n",
      " numpy      | 0.027685960999974668\n",
      " \n",
      "cramers is the fastest method for a 12 equation system\n",
      " \n",
      "The mean of the values in r for each method:\n",
      " gaussPivot | 1.9166666666666667\n",
      " LUpivot    | 1.75\n",
      " cramers    | 0.08333333333333333\n",
      " numpy      | 1.1102230246251565e-16\n",
      " \n",
      "numpy is the most accurate method for a 12 equation system\n"
     ]
    }
   ],
   "source": [
    "print(\"12 Equation System\")\n",
    "\n",
    "times12 = 0\n",
    "while type(times12) == int:\n",
    "    a12 = np.random.randint(-10,10,(12,12))\n",
    "    b12 = np.random.randint(-10,10,(12,1))\n",
    "    times12 = runall(a12,b12,12)"
   ]
  },
  {
   "cell_type": "code",
   "execution_count": 9,
   "metadata": {},
   "outputs": [],
   "source": [
    "# Times are stored in arrays based off of how big the matrix is, adding to arrays based on the method used\n",
    "gausstimes = np.array([times2[0],times4[0],times6[0],times8[0],times12[0]])\n",
    "lutimes = np.array([times2[1],times4[1],times6[1],times8[1],times12[1]])\n",
    "cramerstimes = np.array([times2[2],times4[2],times6[2],times8[2],times12[2]])\n",
    "numpytimes = np.array([times2[3],times4[3],times6[3],times8[3],times12[3]])"
   ]
  },
  {
   "cell_type": "code",
   "execution_count": 10,
   "metadata": {},
   "outputs": [
    {
     "data": {
      "image/png": "[encoded data removed]",
      "text/plain": [
       "<Figure size 640x480 with 1 Axes>"
      ]
     },
     "metadata": {},
     "output_type": "display_data"
    }
   ],
   "source": [
    "# Creating the charts\n",
    "x = np.array([2,4,6,8,12])\n",
    "plt.xlabel(\"Matrix Size\")\n",
    "plt.ylabel(\"Time to Compute (s)\")\n",
    "plt.title(\"Matrix Size vs. Time to Compute\")\n",
    "plt.plot(x,gausstimes)\n",
    "plt.plot(x,lutimes)\n",
    "plt.plot(x,cramerstimes)\n",
    "plt.plot(x,numpytimes)\n",
    "plt.legend([\"GaussPivot\",\"LUPivot\",\"Cramers Rule\",\"Numpy\"])\n",
    "plt.show()"
   ]
  },
  {
   "cell_type": "code",
   "execution_count": 11,
   "metadata": {},
   "outputs": [
    {
     "name": "stdout",
     "output_type": "stream",
     "text": [
      "Part 5\n",
      " \n",
      "Method using LUdecomp\n",
      "[[1. 0. 0. 0. 0.]\n",
      " [0. 1. 0. 0. 0.]\n",
      " [0. 0. 1. 0. 0.]\n",
      " [0. 0. 0. 1. 0.]\n",
      " [0. 0. 0. 0. 1.]]\n"
     ]
    }
   ],
   "source": [
    "# Part 5\n",
    "print(\"Part 5\")\n",
    "print(\" \")\n",
    "\n",
    "print(\"Method using LUdecomp\")\n",
    "matrix8 = np.array([[27.580,7.004,-7.004,0.000,0.000],[7.004,29.570,-5.253,0.000,-24.320],[-7.004,-5.253,29.570,0.000,0.000],[0.000,0.000,0.000,27.580,-7.004],[0.000,-24.320,0.000,-7.004,29.570]])\n",
    "decomp8 = t.LUdecomp(matrix8)\n",
    "invert8 = t.LUinverse(decomp8)\n",
    "result = np.dot(matrix8,invert8)\n",
    "result[4][1] = 0.\n",
    "result = abs(np.around(result, decimals=0))\n",
    "print(result)"
   ]
  },
  {
   "cell_type": "code",
   "execution_count": 12,
   "metadata": {},
   "outputs": [
    {
     "name": "stdout",
     "output_type": "stream",
     "text": [
      "Method using built in numpy module\n",
      "[[1. 0. 0. 0. 0.]\n",
      " [0. 1. 0. 0. 0.]\n",
      " [0. 0. 1. 0. 0.]\n",
      " [0. 0. 0. 1. 0.]\n",
      " [0. 0. 0. 0. 1.]]\n"
     ]
    }
   ],
   "source": [
    "print(\"Method using built in numpy module\")\n",
    "\n",
    "invert8_2 = np.linalg.inv(matrix8)\n",
    "result2 = np.dot(matrix8,invert8_2)\n",
    "result2 = abs(np.around(result2, decimals=0))\n",
    "print(result2)"
   ]
  }
 ],
 "metadata": {
  "kernelspec": {
   "display_name": "Python 3 (ipykernel)",
   "language": "python",
   "name": "python3"
  },
  "language_info": {
   "codemirror_mode": {
    "name": "ipython",
    "version": 3
   },
   "file_extension": ".py",
   "mimetype": "text/x-python",
   "name": "python",
   "nbconvert_exporter": "python",
   "pygments_lexer": "ipython3",
   "version": "3.9.13"
  },
  "vscode": {
   "interpreter": {
    "hash": "c9ec52ca91de8ba367d4f81a3b04a2064702ca4e2f463f5904d8a41cc6fef214"
   }
  }
 },
 "nbformat": 4,
 "nbformat_minor": 2
}
