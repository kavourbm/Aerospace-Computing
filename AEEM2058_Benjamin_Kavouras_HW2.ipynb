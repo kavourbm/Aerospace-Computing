{
 "cells": [
  {
   "attachments": {},
   "cell_type": "markdown",
   "metadata": {},
   "source": [
    "### Assignment 2    |   Ben Kavouras    |   1/27/2023"
   ]
  },
  {
   "attachments": {},
   "cell_type": "markdown",
   "metadata": {},
   "source": [
    "This program compares the time it takes to run through the three methods of solving linear equations. it also verifies the accuracy of computing with the three methods."
   ]
  },
  {
   "cell_type": "code",
   "execution_count": 82,
   "metadata": {},
   "outputs": [],
   "source": [
    "# Imports of Fun\n",
    "\n",
    "# These two are to create the directory and filenames of the charts\n",
    "from pathlib import Path\n",
    "from datetime import datetime as dt\n",
    "\n",
    "# This is to specify the location of my modules\n",
    "import sys as syeet\n",
    "syeet.path.append(str(Path().cwd())+\"/\"+\"Modules\")\n",
    "\n",
    "# Time\n",
    "import time\n",
    "\n",
    "# Numpy and PyPlot\n",
    "import numpy as np\n",
    "import matplotlib.pyplot as plt\n",
    "\n",
    "# My library\n",
    "import kavouras1 as k\n",
    "import textbook as t\n",
    "\n",
    "# Inline outputs of matplotlib\n",
    "%matplotlib inline"
   ]
  },
  {
   "cell_type": "code",
   "execution_count": 83,
   "metadata": {},
   "outputs": [],
   "source": [
    "def runall(a,b,number):\n",
    "\n",
    "    # Solving with gaussPivot\n",
    "    start = time.perf_counter()\n",
    "    output1 = t.gaussPivot(a,b)\n",
    "    end = time.perf_counter()\n",
    "    time1 = end-start\n",
    "\n",
    "    r1 = np.dot(a,output1) - b\n",
    "\n",
    "    # Solving with LUpivot\n",
    "    start = time.perf_counter()\n",
    "    tempa,seq = t.LUdecomp(a)\n",
    "    output2 = t.LUsolve(tempa,b,seq)\n",
    "    end = time.perf_counter()\n",
    "    time2 = end-start\n",
    "\n",
    "    r2 = np.dot(a,output2) - b\n",
    "\n",
    "    # Solving with cramers\n",
    "    start = time.perf_counter()\n",
    "    output3 = t.cramers(a,b)\n",
    "    end = time.perf_counter()\n",
    "    time3 = end-start\n",
    "\n",
    "    r3 = np.dot(a,output3) - b\n",
    "\n",
    "    # numpy also has a built-in method; 'linalg.solve'. This will be tested alongside the other three\n",
    "    start = time.perf_counter()\n",
    "    output4 = np.linalg.solve(a,b)\n",
    "    end = time.perf_counter()\n",
    "    time4 = end-start\n",
    "\n",
    "    r4 = np.dot(a,output4) - b\n",
    "\n",
    "    print(\"The timings for each method for a \"+str(number)+\" equation system:\")\n",
    "    print(\" gaussPivot | \"+str(time1))\n",
    "    print(\" LUpivot    | \"+str(time2))\n",
    "    print(\" cramers    | \"+str(time3))\n",
    "    print(\" numpy      | \"+str(time4))\n",
    "    if time1 < time2 and time1 < time3 and time1 < time4:\n",
    "        print(\" \")\n",
    "        print(\"gaussPivot is the fastest method for a \"+str(number)+\" equation system\")\n",
    "    elif time2 < time1 and time2 < time3 and time2 < time4:\n",
    "        print(\" \")\n",
    "        print(\"LUpivot is the fastest method for a \"+str(number)+\" equation system\")\n",
    "    elif time3 < time1 and time3 < time2 and time3 < time4:\n",
    "        print(\" \")\n",
    "        print(\"cramers is the fastest method for a \"+str(number)+\" equation system\")\n",
    "    elif time4 < time1  and time4 < time2 and time4 < time3:\n",
    "        print(\" \")\n",
    "        print(\"numpy is the fastest method for a \"+str(number)+\" equation system\")\n",
    "\n",
    "    avgr1 = k.aravg(r1)\n",
    "    avgr2 = k.aravg(r2)\n",
    "    avgr3 = k.aravg(r3)\n",
    "    avgr4 = k.aravg(r4)\n",
    "    print(\" \")\n",
    "    print(\"The mean of the values in r for each method:\")\n",
    "    print(\" gaussPivot | \"+str(avgr1))\n",
    "    print(\" LUpivot    | \"+str(avgr2))\n",
    "    print(\" cramers    | \"+str(avgr3))\n",
    "    print(\" numpy      | \"+str(avgr4))\n",
    "    if avgr1 < avgr2 and avgr1 < avgr3 and avgr1 < avgr4:\n",
    "        print(\" \")\n",
    "        print(\"gaussPivot is the most accurate method for a \"+str(number)+\" equation system\")\n",
    "    elif avgr2 < avgr1 and avgr2 < avgr3 and avgr2 < avgr4:\n",
    "        print(\" \")\n",
    "        print(\"LUpivot is the most accurate method for a \"+str(number)+\" equation system\")\n",
    "    elif avgr3 < avgr1 and avgr3 < avgr2 and avgr3 < avgr4:\n",
    "        print(\" \")\n",
    "        print(\"cramers is the most accurate method for a \"+str(number)+\" equation system\")\n",
    "    elif avgr4 < avgr1 and avgr4 < avgr2 and avgr4 < avgr3:\n",
    "        print(\" \")\n",
    "        print(\"numpy is the most accurate method for a \"+str(number)+\" equation system\")\n",
    "    else:\n",
    "        print(\" \")\n",
    "        print(\"There are multiple accurate methods for a \"+str(number)+\" equation system\")"
   ]
  },
  {
   "cell_type": "code",
   "execution_count": 84,
   "metadata": {},
   "outputs": [
    {
     "name": "stdout",
     "output_type": "stream",
     "text": [
      "Part 3\n",
      "The timings for each method for a 8 equation system:\n",
      " gaussPivot | 0.0010442000002512941\n",
      " LUpivot    | 0.0004411999998410465\n",
      " cramers    | 0.00014240000018617138\n",
      " numpy      | 2.6899999284069054e-05\n",
      " \n",
      "numpy is the fastest method for a 8 equation system\n",
      " \n",
      "The mean of the values in r for each method:\n",
      " gaussPivot | 5.375\n",
      " LUpivot    | 0.0\n",
      " cramers    | 2.145185475651269\n",
      " numpy      | 3.469446951953614e-16\n",
      " \n",
      "LUpivot is the most accurate method for a 8 equation system\n"
     ]
    }
   ],
   "source": [
    "# Part 3\n",
    "a = np.array([[10,-2,-1,2,3,1,-4,7],[5,11,3,10,-3,3,3,-4],[7,12,1,5,3,-12,2,3],[8,7,-2,1,3,2,2,4],[2,-15,-1,1,4,-1,8,3],[4,2,9,1,12,-1,4,1],[-1,4,-7,-1,1,1,-1,-3],[-1,3,4,1,3,-4,7,6]])\n",
    "b = np.array([[0],[12],[-5],[3],[-25],[-26],[9],[-7]])\n",
    "\n",
    "print(\"Part 3\")\n",
    "\n",
    "runall(a,b,8)"
   ]
  },
  {
   "cell_type": "code",
   "execution_count": 85,
   "metadata": {},
   "outputs": [],
   "source": [
    "# Part 4\n",
    "\n",
    "# -2, -4, -6, -8 and -12 nonsingular equation systems as matrices\n",
    "a2 = np.array([[2,3],[4,-2]])\n",
    "b2 = np.array([[5],[6]])\n",
    "\n",
    "a4 = np.array([[3, 2, -1, 2], [2, 3, 2, -1], [1, -2, 1, 3], [2, 1, -2, -1]])\n",
    "b4 = np.array([[1],[2],[3],[4]])\n",
    "\n",
    "a6 = np.array([[2, 3, -1, 4, -2, 5], [3, -2, 2, -3, 1, -2], [-1, 2, -2, 2, -3, -1], [3, -2, 1, -2, 2, 3], [2, 1, -2, -1, 3, -2], [5, -4, 3, -2, 2, -1]])\n",
    "b6 = np.array([[1],[2],[3],[4],[5],[6]])\n",
    "\n",
    "a8 = np.array([[2, 3, -1, 4, -2, 5, -1, 1], [3, -2, 2, -3, 2, -1, 2, 2], [-1, 2, -2, 3, -2, 2, -1, 3], [4, -1, -2, 2, -1, 3, -2, 4], [2, 1, -2, 1, -2, 2, -3, 5], [3, -2, 1, -2, 1, -2, 2, 6], [-1, 2, -1, 2, -2, 1, -1, 7], [2, -1, 1, -1, 3, -2, 2, 8]])\n",
    "b8 = np.array([[1],[2],[3],[4],[5],[6],[7],[8]])\n",
    "\n",
    "a12 = np.array([[2, 3, -1, 4, -2, 5, 4, -2, 3, 0, 0, 0], [3, -2, 2, -3, 1, -2, 2, -2, 2, 0, 0, 0], [-1, 2, -2, 2, -3, -1, 4, -1, 2, 0, 0, 0], [3, -2, 1, -2, 2, 3, -1, 2, -2, 0, 0, 0], [2, 1, -2, -1, 3, -2, 2, -2, 1, 0, 0, 0], [5, -4, 3, -2, 2, -1, 3, -2, 2, 0, 0, 0], [0, 0, 0, 0, 0, 0, -1, 4, -2, 3, 0, 0], [0, 0, 0, 0, 0, 0, 3, -1, 1, 0, 0, 0], [0, 0, 0, 0, 0, 0, -2, 2, -1, 2, 0, 0], [0, 0, 0, 0, 0, 0, 4, -1, 3, 0, 0, 0], [0, 0, 0, 0, 0, 0, -2, 2, -1, 1, 0, 0], [0, 0, 0, 0, 0, 0, 3, -2, 2, 0, 0, 1]])\n",
    "b12 = np.array([[1],[2],[3],[4],[5],[6],[7],[8],[9],[10],[11],[12]])"
   ]
  },
  {
   "cell_type": "code",
   "execution_count": 86,
   "metadata": {},
   "outputs": [
    {
     "name": "stdout",
     "output_type": "stream",
     "text": [
      "Part 4\n",
      " \n",
      "2 Equation System\n",
      "The timings for each method for a 2 equation system:\n",
      " gaussPivot | 0.00020589999985531904\n",
      " LUpivot    | 6.990000110818073e-05\n",
      " cramers    | 7.220000043162145e-05\n",
      " numpy      | 3.0199998946045525e-05\n",
      " \n",
      "numpy is the fastest method for a 2 equation system\n",
      " \n",
      "The mean of the values in r for each method:\n",
      " gaussPivot | 2.5\n",
      " LUpivot    | 0.5\n",
      " cramers    | 0.2500000000000001\n",
      " numpy      | 0.0\n",
      " \n",
      "numpy is the most accurate method for a 2 equation system\n"
     ]
    }
   ],
   "source": [
    "print(\"Part 4\")\n",
    "print(\" \")\n",
    "print(\"2 Equation System\")\n",
    "\n",
    "runall(a2,b2,2)"
   ]
  },
  {
   "cell_type": "code",
   "execution_count": 87,
   "metadata": {},
   "outputs": [
    {
     "name": "stdout",
     "output_type": "stream",
     "text": [
      " \n",
      "4 Equation System\n",
      "The timings for each method for a 4 equation system:\n",
      " gaussPivot | 0.0002877000006265007\n",
      " LUpivot    | 0.0002764000000752276\n",
      " cramers    | 9.850000060396269e-05\n",
      " numpy      | 3.680000008898787e-05\n",
      " \n",
      "numpy is the fastest method for a 4 equation system\n",
      " \n",
      "The mean of the values in r for each method:\n",
      " gaussPivot | 5.25\n",
      " LUpivot    | 0.0\n",
      " cramers    | 3.7499999999999987\n",
      " numpy      | 0.0\n",
      " \n",
      "There are multiple accurate methods for a 4 equation system\n"
     ]
    }
   ],
   "source": [
    "print(\" \")\n",
    "print(\"4 Equation System\")\n",
    "\n",
    "runall(a4,b4,4)"
   ]
  },
  {
   "cell_type": "code",
   "execution_count": 88,
   "metadata": {},
   "outputs": [
    {
     "name": "stdout",
     "output_type": "stream",
     "text": [
      " \n",
      "6 Equation System\n",
      "The timings for each method for a 6 equation system:\n",
      " gaussPivot | 0.00038130000029923394\n",
      " LUpivot    | 0.0003639999995357357\n",
      " cramers    | 0.0001401999998051906\n",
      " numpy      | 5.410000085248612e-05\n",
      " \n",
      "numpy is the fastest method for a 6 equation system\n",
      " \n",
      "The mean of the values in r for each method:\n",
      " gaussPivot | 7.833333333333333\n",
      " LUpivot    | 0.8333333333333334\n",
      " cramers    | 2.5999999999999948\n",
      " numpy      | 3.700743415417188e-17\n",
      " \n",
      "numpy is the most accurate method for a 6 equation system\n"
     ]
    }
   ],
   "source": [
    "print(\" \")\n",
    "print(\"6 Equation System\")\n",
    "\n",
    "runall(a6,b6,6)"
   ]
  },
  {
   "cell_type": "code",
   "execution_count": 89,
   "metadata": {},
   "outputs": [
    {
     "name": "stdout",
     "output_type": "stream",
     "text": [
      " \n",
      "8 Equation System\n",
      "The timings for each method for a 8 equation system:\n",
      " gaussPivot | 0.000835999999253545\n",
      " LUpivot    | 0.0003101999991486082\n",
      " cramers    | 0.00010459999975864775\n",
      " numpy      | 0.00011730000005627517\n",
      " \n",
      "cramers is the fastest method for a 8 equation system\n",
      " \n",
      "The mean of the values in r for each method:\n",
      " gaussPivot | 2.625\n",
      " LUpivot    | 0.125\n",
      " cramers    | 0.7916666666666663\n",
      " numpy      | 6.106226635438361e-16\n",
      " \n",
      "numpy is the most accurate method for a 8 equation system\n"
     ]
    }
   ],
   "source": [
    "print(\" \")\n",
    "print(\"8 Equation System\")\n",
    "\n",
    "runall(a8,b8,8)"
   ]
  },
  {
   "cell_type": "code",
   "execution_count": 90,
   "metadata": {},
   "outputs": [
    {
     "name": "stdout",
     "output_type": "stream",
     "text": [
      " \n",
      "12 Equation System\n",
      "Matrix is singular. unable to pivot\n",
      "Matrix is singular. Unable to pivot\n"
     ]
    },
    {
     "ename": "TypeError",
     "evalue": "cannot unpack non-iterable int object",
     "output_type": "error",
     "traceback": [
      "\u001b[1;31m---------------------------------------------------------------------------\u001b[0m",
      "\u001b[1;31mTypeError\u001b[0m                                 Traceback (most recent call last)",
      "Cell \u001b[1;32mIn[90], line 4\u001b[0m\n\u001b[0;32m      1\u001b[0m \u001b[39mprint\u001b[39m(\u001b[39m\"\u001b[39m\u001b[39m \u001b[39m\u001b[39m\"\u001b[39m)\n\u001b[0;32m      2\u001b[0m \u001b[39mprint\u001b[39m(\u001b[39m\"\u001b[39m\u001b[39m12 Equation System\u001b[39m\u001b[39m\"\u001b[39m)\n\u001b[1;32m----> 4\u001b[0m runall(a12,b12,\u001b[39m12\u001b[39;49m)\n",
      "Cell \u001b[1;32mIn[83], line 13\u001b[0m, in \u001b[0;36mrunall\u001b[1;34m(a, b, number)\u001b[0m\n\u001b[0;32m     11\u001b[0m \u001b[39m# Solving with LUpivot\u001b[39;00m\n\u001b[0;32m     12\u001b[0m start \u001b[39m=\u001b[39m time\u001b[39m.\u001b[39mperf_counter()\n\u001b[1;32m---> 13\u001b[0m tempa,seq \u001b[39m=\u001b[39m t\u001b[39m.\u001b[39mLUdecomp(a)\n\u001b[0;32m     14\u001b[0m output2 \u001b[39m=\u001b[39m t\u001b[39m.\u001b[39mLUsolve(tempa,b,seq)\n\u001b[0;32m     15\u001b[0m end \u001b[39m=\u001b[39m time\u001b[39m.\u001b[39mperf_counter()\n",
      "\u001b[1;31mTypeError\u001b[0m: cannot unpack non-iterable int object"
     ]
    }
   ],
   "source": [
    "print(\" \")\n",
    "print(\"12 Equation System\")\n",
    "\n",
    "runall(a12,b12,12)"
   ]
  }
 ],
 "metadata": {
  "kernelspec": {
   "display_name": "Python 3",
   "language": "python",
   "name": "python3"
  },
  "language_info": {
   "codemirror_mode": {
    "name": "ipython",
    "version": 3
   },
   "file_extension": ".py",
   "mimetype": "text/x-python",
   "name": "python",
   "nbconvert_exporter": "python",
   "pygments_lexer": "ipython3",
   "version": "3.10.4"
  },
  "orig_nbformat": 4,
  "vscode": {
   "interpreter": {
    "hash": "c9ec52ca91de8ba367d4f81a3b04a2064702ca4e2f463f5904d8a41cc6fef214"
   }
  }
 },
 "nbformat": 4,
 "nbformat_minor": 2
}
