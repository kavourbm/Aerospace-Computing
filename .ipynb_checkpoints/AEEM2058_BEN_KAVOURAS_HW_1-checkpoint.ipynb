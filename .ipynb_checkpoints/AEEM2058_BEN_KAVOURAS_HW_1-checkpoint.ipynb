{
 "cells": [
  {
   "cell_type": "markdown",
   "metadata": {},
   "source": [
    "Assignment 1    |   Ben Kavouras    |   1/12/2023"
   ]
  },
  {
   "cell_type": "markdown",
   "metadata": {},
   "source": [
    "This program takes in 6 initial user inputs (checks to make sure they work, both internally and with the user), runs them through a formula listed below, and then creates plots from the output, based on user input."
   ]
  },
  {
   "cell_type": "code",
   "execution_count": 7,
   "metadata": {},
   "outputs": [
    {
     "name": "stdout",
     "output_type": "stream",
     "text": [
      "/home/therealkavouras/Documents/Spring23/Aerospace-ComputingModules\n"
     ]
    }
   ],
   "source": [
    "# Imports of Fun\n",
    "\n",
    "# These two are to create the directory and filenames of the charts\n",
    "from pathlib import Path\n",
    "from datetime import datetime as dt\n",
    "\n",
    "# This is to specify the location of my modules\n",
    "import sys as syeet\n",
    "syeet.path.append(str(Path().cwd())+\"/\"+\"Modules\")\n",
    "\n",
    "# Numpy and PyPlot\n",
    "import numpy as np\n",
    "import matplotlib.pyplot as plt\n",
    "\n",
    "# My library\n",
    "import kavouras1 as k\n",
    "\n",
    "# Inline outputs of matplotlib\n",
    "%matplotlib inline\n",
    "\n",
    "# quit variable to stop the program\n",
    "quit = False"
   ]
  },
  {
   "cell_type": "code",
   "execution_count": null,
   "metadata": {},
   "outputs": [],
   "source": [
    "# Function for the plotted equation\n",
    "def f(x,y,A,B,n,m,o,p):\n",
    "    f = A*np.sin(n*np.pi*x+o)+B*np.sin(m*np.pi*y+p)\n",
    "    return f"
   ]
  },
  {
   "cell_type": "code",
   "execution_count": null,
   "metadata": {},
   "outputs": [],
   "source": [
    "# \"User Interface\" (prints a description of what the code does)\n",
    "print(\"This code plots the contours and the line plots of the function f(x)=A*sin(n*pi*x+phi)+B*sin(m*pi*y+psi)\")\n",
    "\n",
    "# Don't mind my variable names, this one keeps the loop waiting until the user is satisfied with their inputs\n",
    "topg = False\n",
    "while topg != True:\n",
    "    # Grabby the inputs\n",
    "    print(\"If you wish to enter pi, please enter it as 'pi'. If you wish to enter an equation with pi (ie. 10*pi), please enter it as a number (ie. 34.159)\")\n",
    "    # k.returnfloat just takes a user input and looks for 'pi' and then converts that to the number pi\n",
    "    A = k.returnfloat(input(\"Input the value of A\"))\n",
    "    B = k.returnfloat(input(\"Input the value of B\"))\n",
    "    m = k.returnfloat(input(\"Input the value of m\"))\n",
    "    n = k.returnfloat(input(\"Input the value of n\"))\n",
    "    o = k.returnfloat(input(\"Input the value of phi\"))\n",
    "    p = k.returnfloat(input(\"Input the value of psi\"))\n",
    "\n",
    "    # Checks with the user to make sure the inputs are good\n",
    "    print(\"Your inputs are: A = \",str(A),\", B = \",str(B),\", n = \",str(n),\", m = \",str(m),\", phi = \",str(o),\", psi = \",str(p))\n",
    "    \n",
    "    # k.get2inputs takes two arrays, each containing what a user might put in for a certain option, as well as dialogue, and returns back what the user wants\n",
    "    correctputs = k.get2inputs(np.array([\"Yes\",\"yes\",\"Y\",\"y\"]),np.array([\"No\",\"no\",\"N\",\"n\"]),\"Do your inputs look correct?\",\"y\",\"n\")\n",
    "    if correctputs == 1:\n",
    "        topg = True\n",
    "        print(\"Continuing to chart creation\")\n",
    "        continue\n",
    "    elif correctputs == 2:\n",
    "        print(\"OK. Returning to number inputs.\")"
   ]
  },
  {
   "cell_type": "code",
   "execution_count": null,
   "metadata": {},
   "outputs": [],
   "source": [
    "# This bit creates a file location where the plots will be saved. Is unique to whatever second this line is read\n",
    "print(dt.now())\n",
    "locationstr = \"/PlotOutput-\"+str(dt.now().year)+str(dt.now().month)+str(dt.now().day)+str(dt.now().hour)+str(dt.now().minute)+str(dt.now().second)\n",
    "print(\"All charts created during this session will be saved in: \"+str(Path().cwd())+locationstr)\n",
    "locate = Path(str(Path().cwd())+locationstr)\n",
    "locate.mkdir()"
   ]
  },
  {
   "cell_type": "code",
   "execution_count": null,
   "metadata": {},
   "outputs": [],
   "source": [
    "# This is the main loop of the program, where the user picks which plots they want, and the program plots those inputs\n",
    "while quit != True:\n",
    "\n",
    "    # Asks for a contour plot or a line plot\n",
    "    great = k.get3inputs(np.array([\"Contour\",\"contour\",\"C\",\"c\"]),np.array([\"Line\",\"line\",\"L\",\"l\"]),np.array([\"Exit\",\"exit\",\"E\",\"e\"]),\"Would you like a contour plot or a line plot?\",\"c\",\"l\",\"e\")\n",
    "    \n",
    "    # What if a contour plot?\n",
    "    if great == 1:\n",
    "\n",
    "        # First, get the chart ranges\n",
    "        xrange = k.returnfloat(input(\"Input the desired X range\"))\n",
    "        yrange = k.returnfloat(input(\"Input the desired y range\"))\n",
    "\n",
    "        # Then make the plat\n",
    "        x = np.linspace(0,xrange,100)\n",
    "        y = np.linspace(0,yrange,100)\n",
    "        X,Y = np.meshgrid(x,y)\n",
    "        fig, ax = plt.subplots()\n",
    "        cp = ax.contourf(X,Y,f(X,Y,A,B,m,n,o,p))\n",
    "        ax.set_xlabel('x')\n",
    "        ax.set_ylabel('y')\n",
    "        ax.set_title('x Versus y Contour')\n",
    "\n",
    "        # Then save the plot (again, name is unique to the second its made)\n",
    "        chartname = \"contourplot\"+str(dt.now().year)+str(dt.now().month)+str(dt.now().day)+str(dt.now().hour)+str(dt.now().minute)+str(dt.now().second)+\".jpg\"\n",
    "        plt.savefig(str(locate)+\"/\"+chartname,format='jpg')\n",
    "        plt.show()\n",
    "        print(\"Saved as \"+chartname)\n",
    "    \n",
    "    # What if a line plot?\n",
    "    elif great == 2:\n",
    "\n",
    "        # Ask if the user wants a horizontal or vertical line plot\n",
    "        linetype = k.get2inputs(np.array([\"Horizontal\",\"horizontal\",\"H\",\"h\"]),np.array([\"Vertical\",\"vertical\",\"V\",\"v\"]),\"Would you like a horizontal or vertical line plot?\",\"h\",\"v\")\n",
    "        \n",
    "        # What if horizontal?\n",
    "        if linetype == 1:\n",
    "\n",
    "            # First, get the chart ranges\n",
    "            xrange = k.returnfloat(input(\"Input the desired x range\"))\n",
    "            y = k.returnfloat(input(\"Input the desired fixed y value\"))\n",
    "\n",
    "            # Then make the plot\n",
    "            x = np.linspace(0,xrange,100)\n",
    "            fig, ax = plt.subplots()\n",
    "            ax.plot(x,f(x,y,A,B,n,m,o,p))\n",
    "            ax.set_xlabel('x')\n",
    "            ax.set_ylabel('f(x)')\n",
    "            ax.set_title('x Versus f(x)')\n",
    "            ax.set_xticks(np.arange(0,xrange,2*y))\n",
    "\n",
    "            # Then save the plot (again, name is unique to the second its made)\n",
    "            chartname = \"horizontalplot\"+str(dt.now().year)+str(dt.now().month)+str(dt.now().day)+str(dt.now().hour)+str(dt.now().minute)+str(dt.now().second)+\".jpg\"\n",
    "            plt.savefig(str(locate)+\"/\"+chartname,format='jpg')\n",
    "            plt.show()\n",
    "            print(\"Saved as \"+chartname)\n",
    "        \n",
    "        # What if vertical?\n",
    "        elif linetype == 2:\n",
    "\n",
    "            # First, get the chart range\n",
    "            x = k.returnfloat(input(\"Input the desired fixed x value\"))\n",
    "            yrange = k.returnfloat(input(\"Input the desired y range\"))\n",
    "\n",
    "            # Then make the plot\n",
    "            y = np.linspace(0,yrange,100)\n",
    "            fig, ay = plt.subplots()\n",
    "            ay.plot(y, f(y,x,A,B,n,m,o,p))\n",
    "            ay.set_xlabel('y')\n",
    "            ay.set_ylabel('f(y)')\n",
    "            ay.set_title('y Versus f(y)')\n",
    "            ay.set_yticks(np.arange(0,2*x,yrange))\n",
    "\n",
    "            # Then save the plot (again, name is unique to the second its made)\n",
    "            chartname = \"verticalplot\"+str(dt.now().year)+str(dt.now().month)+str(dt.now().day)+str(dt.now().hour)+str(dt.now().minute)+str(dt.now().second)+\".jpg\"\n",
    "            plt.savefig(str(locate)+\"/\"+chartname,format='jpg')\n",
    "            plt.show()\n",
    "            print(\"Saved as \"+chartname)\n",
    "\n",
    "    # When the program asks if the user wants a contour or line plot, there is a 3rd option to exit. If thats selected, this runs, immediately ending the code\n",
    "    elif great == 3:\n",
    "        quit = True\n",
    "    \n",
    "    # The user is asked again after the chart is made if they would like to exit\n",
    "    if quit != True:\n",
    "        reset = k.get2inputs(np.array([\"Yes\",\"yes\",\"Y\",\"y\"]),np.array([\"No\",\"no\",\"N\",\"n\"]),\"Would you like to make another plot?\",\"y\",\"n\")\n",
    "        if reset == 2:\n",
    "            quit = True\n",
    "    "
   ]
  }
 ],
 "metadata": {
  "kernelspec": {
   "display_name": "Python 3 (ipykernel)",
   "language": "python",
   "name": "python3"
  },
  "language_info": {
   "codemirror_mode": {
    "name": "ipython",
    "version": 3
   },
   "file_extension": ".py",
   "mimetype": "text/x-python",
   "name": "python",
   "nbconvert_exporter": "python",
   "pygments_lexer": "ipython3",
   "version": "3.9.13"
  },
  "vscode": {
   "interpreter": {
    "hash": "f26c5988757f4ae4eb6ac8f179a30209cca927f29288adec65681e3ffa01b923"
   }
  }
 },
 "nbformat": 4,
 "nbformat_minor": 2
}
