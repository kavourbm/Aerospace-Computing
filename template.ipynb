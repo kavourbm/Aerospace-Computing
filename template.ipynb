{
 "cells": [
  {
   "attachments": {},
   "cell_type": "markdown",
   "metadata": {},
   "source": [
    "### Assignment X    |   Ben Kavouras    |   X/XX/2023"
   ]
  },
  {
   "attachments": {},
   "cell_type": "markdown",
   "metadata": {},
   "source": [
    "Description of the program"
   ]
  },
  {
   "cell_type": "code",
   "execution_count": null,
   "metadata": {},
   "outputs": [],
   "source": [
    "# Imports of Fun\n",
    "\n",
    "# These two are to create the directory and filenames of the charts\n",
    "from pathlib import Path\n",
    "from datetime import datetime as dt\n",
    "\n",
    "# This is to specify the location of my modules\n",
    "import sys as syeet\n",
    "syeet.path.append(str(Path().cwd())+\"/\"+\"Modules\")\n",
    "\n",
    "# Numpy and PyPlot\n",
    "import numpy as np\n",
    "import matplotlib.pyplot as plt\n",
    "\n",
    "# My library\n",
    "import kavouras1 as k\n",
    "\n",
    "# Inline outputs of matplotlib\n",
    "%matplotlib inline\n",
    "\n",
    "# quit variable to stop the program\n",
    "quit = False"
   ]
  },
  {
   "cell_type": "code",
   "execution_count": null,
   "metadata": {},
   "outputs": [],
   "source": []
  }
 ],
 "metadata": {
  "kernelspec": {
   "display_name": "base",
   "language": "python",
   "name": "python3"
  },
  "language_info": {
   "codemirror_mode": {
    "name": "ipython",
    "version": 3
   },
   "file_extension": ".py",
   "mimetype": "text/x-python",
   "name": "python",
   "nbconvert_exporter": "python",
   "pygments_lexer": "ipython3",
   "version": "3.9.13 (main, Aug 25 2022, 23:26:10) \n[GCC 11.2.0]"
  },
  "orig_nbformat": 4,
  "vscode": {
   "interpreter": {
    "hash": "f26c5988757f4ae4eb6ac8f179a30209cca927f29288adec65681e3ffa01b923"
   }
  }
 },
 "nbformat": 4,
 "nbformat_minor": 2
}
