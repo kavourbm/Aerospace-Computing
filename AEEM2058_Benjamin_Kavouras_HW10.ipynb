{
 "cells": [
  {
   "cell_type": "code",
   "execution_count": 7,
   "metadata": {},
   "outputs": [],
   "source": [
    "# Imports of Fun\n",
    "\n",
    "# These two are to create the directory and filenames of the charts\n",
    "from pathlib import Path\n",
    "\n",
    "# This is to specify the location of my modules\n",
    "import sys as syeet\n",
    "syeet.path.append(str(Path().cwd())+\"/\"+\"Modules\")\n",
    "\n",
    "# This is to specify the location of the .dat files for this assignment, Github did not like these files so I had to store them somewhere else\n",
    "datapath = str(Path().cwd()).replace(\"Aerospace-Computing\",\"Misc/\")\n",
    "\n",
    "# Numpy and PyPlot\n",
    "import numpy as np\n",
    "import matplotlib.pyplot as plt\n",
    "#import sympy as sp\n",
    "import scipy as spy\n",
    "import pandas as pd\n",
    "\n",
    "# My library\n",
    "import kavouras1 as k\n",
    "import textbook as t\n",
    "\n",
    "# Inline outputs of matplotlib\n",
    "%matplotlib inline\n",
    "\n",
    "# Sympy symbols\n",
    "#x,y = sp.symbols('x y')"
   ]
  },
  {
   "cell_type": "code",
   "execution_count": 8,
   "metadata": {},
   "outputs": [],
   "source": [
    "A = np.array([[5,3,0,0,0],[0,5,0,0,0],[0,0,5,0,0],[0,0,0,5,1],[0,0,0,0,5]])\n",
    "B = np.array([[51,2,3,5,7,11],[1,52,3,5,7,11],[1,2,53,5,7,11],[1,2,3,55,7,11],[1,2,3,5,57,11],[1,2,3,5,7,61]])"
   ]
  },
  {
   "cell_type": "code",
   "execution_count": 9,
   "metadata": {},
   "outputs": [
    {
     "name": "stdout",
     "output_type": "stream",
     "text": [
      "Eingenvalues\n",
      "[5. 5. 5. 5. 5.]\n",
      " \n",
      "Eigenvectors\n",
      "[[ 1. -1.  0.  0.  0.]\n",
      " [ 0.  0.  0.  0.  0.]\n",
      " [ 0.  0.  1.  0.  0.]\n",
      " [ 0.  0.  0.  1. -1.]\n",
      " [ 0.  0.  0.  0.  0.]]\n"
     ]
    }
   ],
   "source": [
    "print(\"Eingenvalues\")\n",
    "print(np.linalg.eig(A)[0])\n",
    "print(\" \")\n",
    "print(\"Eigenvectors\")\n",
    "print(np.around(np.linalg.eig(A)[1],10))"
   ]
  },
  {
   "cell_type": "code",
   "execution_count": 10,
   "metadata": {},
   "outputs": [
    {
     "name": "stdout",
     "output_type": "stream",
     "text": [
      "Eingenvalues\n",
      "[50.+0.j 79.+0.j 50.+0.j 50.+0.j 50.+0.j 50.-0.j]\n",
      " \n",
      "Eigenvectors\n",
      "[[-0.9968264 +0.j          0.40824829+0.j          0.05272661+0.j\n",
      "  -0.0818284 +0.j         -0.13454598+0.01126109j -0.13454598-0.01126109j]\n",
      " [ 0.03560094+0.j          0.40824829+0.j          0.52287692+0.j\n",
      "   0.53328458+0.j          0.63461232+0.j          0.63461232-0.j        ]\n",
      " [ 0.03560094+0.j          0.40824829+0.j         -0.57073534+0.j\n",
      "   0.69042454+0.j          0.26677967+0.05453084j  0.26677967-0.05453084j]\n",
      " [ 0.03560094+0.j          0.40824829+0.j         -0.5693517 +0.j\n",
      "  -0.47909535+0.j          0.43547624+0.04726278j  0.43547624-0.04726278j]\n",
      " [ 0.03560094+0.j          0.40824829+0.j          0.19224912+0.j\n",
      "  -0.03669653+0.j         -0.21166832+0.36970749j -0.21166832-0.36970749j]\n",
      " [ 0.03560094+0.j          0.40824829+0.j          0.19224912+0.j\n",
      "  -0.03669653+0.j         -0.23915642-0.27264727j -0.23915642+0.27264727j]]\n"
     ]
    }
   ],
   "source": [
    "print(\"Eingenvalues\")\n",
    "print(np.around(np.linalg.eig(B)[0],10))\n",
    "print(\" \")\n",
    "print(\"Eigenvectors\")\n",
    "print(np.around(np.linalg.eig(B)[1],10))"
   ]
  },
  {
   "cell_type": "code",
   "execution_count": 11,
   "metadata": {},
   "outputs": [],
   "source": [
    "vals = np.array([[0,0]])\n",
    "eigB = np.array([])\n",
    "l = 0\n",
    "for eigs in np.linalg.eig(B)[0]:\n",
    "    eigB = np.append(eigB,np.around(eigs,5))\n",
    "for i in eigB:\n",
    "    if len(vals) > 1:\n",
    "        iter = 1\n",
    "        for k in vals:\n",
    "            if i == k[0]:\n",
    "                k[1] += 1\n",
    "                break\n",
    "            elif iter == len(vals):\n",
    "                vals = np.vstack((vals,[i,1]))\n",
    "            iter += 1\n",
    "    else:\n",
    "        vals = np.vstack((vals,[i,1]))\n",
    "ind = 0\n",
    "stored = 0\n",
    "for j in vals:\n",
    "    if j[1] > stored:\n",
    "        stored = ind\n",
    "    ind += 1"
   ]
  },
  {
   "cell_type": "code",
   "execution_count": 12,
   "metadata": {},
   "outputs": [
    {
     "name": "stdout",
     "output_type": "stream",
     "text": [
      "Eigenvector 1:\n",
      "[-0.9968264 +0.j  0.03560094+0.j  0.03560094+0.j  0.03560094+0.j\n",
      "  0.03560094+0.j  0.03560094+0.j]\n",
      "Eigenvector 2:\n"
     ]
    }
   ],
   "source": [
    "eigenvals, eigenvects = np.linalg.eig(B)\n",
    "idx = np.where(np.isclose(eigenvals,vals[stored,0]))[0][0]\n",
    "\n",
    "C = B - eigenvals[idx]*np.identity(B.shape[0])\n",
    "v1 = eigenvects[:,idx]\n",
    "#v2 = np.linalg.solve(C,v1)\n",
    "\n",
    "v1 = v1/np.linalg.norm(v1)\n",
    "#v2 = v2/np.linalg.norm(v2)\n",
    "\n",
    "print(\"Eigenvector 1:\")\n",
    "print(v1)\n",
    "print(\"Eigenvector 2:\")\n",
    "#print(v2)"
   ]
  }
 ],
 "metadata": {
  "kernelspec": {
   "display_name": "torch",
   "language": "python",
   "name": "torch"
  },
  "language_info": {
   "codemirror_mode": {
    "name": "ipython",
    "version": 3
   },
   "file_extension": ".py",
   "mimetype": "text/x-python",
   "name": "python",
   "nbconvert_exporter": "python",
   "pygments_lexer": "ipython3",
   "version": "3.9.13"
  },
  "orig_nbformat": 4
 },
 "nbformat": 4,
 "nbformat_minor": 2
}
