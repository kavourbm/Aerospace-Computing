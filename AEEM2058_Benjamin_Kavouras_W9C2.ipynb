{
 "cells": [
  {
   "cell_type": "code",
   "execution_count": 147,
   "metadata": {},
   "outputs": [],
   "source": [
    "# Imports of Fun\n",
    "\n",
    "# These two are to create the directory and filenames of the charts\n",
    "from pathlib import Path\n",
    "\n",
    "# This is to specify the location of my modules\n",
    "import sys as syeet\n",
    "syeet.path.append(str(Path().cwd())+\"/\"+\"Modules\")\n",
    "\n",
    "# Numpy and PyPlot\n",
    "import numpy as np\n",
    "import matplotlib.pyplot as plt\n",
    "#import sympy as sp\n",
    "from scipy import integrate\n",
    "\n",
    "# My library\n",
    "import kavouras1 as k\n",
    "import textbook as t\n",
    "\n",
    "# Inline outputs of matplotlib\n",
    "%matplotlib inline\n",
    "\n",
    "# Sympy symbols\n",
    "#x,y = sp.symbols('x y')"
   ]
  },
  {
   "cell_type": "code",
   "execution_count": 151,
   "metadata": {},
   "outputs": [],
   "source": [
    "# glabal variable\n",
    "us = np.arange(.05,1.05,.005)"
   ]
  },
  {
   "cell_type": "code",
   "execution_count": 152,
   "metadata": {},
   "outputs": [
    {
     "name": "stderr",
     "output_type": "stream",
     "text": [
      "<magic-timeit>:9: RuntimeWarning: divide by zero encountered in double_scalars\n",
      "<magic-timeit>:12: IntegrationWarning: The maximum number of subdivisions (50) has been achieved.\n",
      "  If increasing the limit yields no improvement it is advised to analyze \n",
      "  the integrand in order to determine the difficulties.  If the position of a \n",
      "  local difficulty can be determined (singularity, discontinuity) one will \n",
      "  probably gain from splitting up the interval and calling the integrator \n",
      "  on the subranges.  Perhaps a special-purpose integrator should be used.\n"
     ]
    },
    {
     "name": "stdout",
     "output_type": "stream",
     "text": [
      "867 ms ± 10.2 ms per loop (mean ± std. dev. of 7 runs, 1 loop each)\n"
     ]
    }
   ],
   "source": [
    "%%timeit\n",
    "\n",
    "# g vals matrix\n",
    "gs = np.empty(len(us))\n",
    "\n",
    "# integration lims\n",
    "a = 0\n",
    "\n",
    "# loop thru us to calculate g\n",
    "for i in range(len(us)):\n",
    "    g = lambda x: (us[i]**3)*((x*4)*np.exp(x))/((np.exp(x)-1)**2)\n",
    "    if us[i] > 0:\n",
    "        b = 1/us[i]\n",
    "        gs[i], err = integrate.quad(g,a,b)"
   ]
  },
  {
   "cell_type": "code",
   "execution_count": 153,
   "metadata": {},
   "outputs": [
    {
     "name": "stdout",
     "output_type": "stream",
     "text": [
      "9.22 ms ± 270 µs per loop (mean ± std. dev. of 7 runs, 100 loops each)\n"
     ]
    }
   ],
   "source": [
    "%%timeit\n",
    "\n",
    "def integrand(x,u):\n",
    "    return (x**4 * np.exp(x))/((np.exp(x)-1)**2)\n",
    "\n",
    "results = []\n",
    "for u in us:\n",
    "    result, error = integrate.quad(integrand,0,1/u,args=(u,))\n",
    "    results.append(result*(u**3))"
   ]
  },
  {
   "cell_type": "code",
   "execution_count": 154,
   "metadata": {},
   "outputs": [
    {
     "name": "stdout",
     "output_type": "stream",
     "text": [
      "9.34 ms ± 311 µs per loop (mean ± std. dev. of 7 runs, 100 loops each)\n"
     ]
    }
   ],
   "source": [
    "%%timeit\n",
    "\n",
    "def integrand(x,u):\n",
    "    return (x**4 * np.exp(x))/((np.exp(x)-1)**2)\n",
    "\n",
    "# list comprehension\n",
    "results = [integrate.quad(integrand,0,1/u,args=(u,))[0]*u**3 for u in us]"
   ]
  },
  {
   "cell_type": "code",
   "execution_count": 155,
   "metadata": {},
   "outputs": [
    {
     "name": "stdout",
     "output_type": "stream",
     "text": [
      "9.02 ms ± 54 µs per loop (mean ± std. dev. of 7 runs, 100 loops each)\n"
     ]
    }
   ],
   "source": [
    "%%timeit\n",
    "\n",
    "# Define the given integrand\n",
    "integrand = lambda x,u: (x**4 * np.exp(x))/((np.exp(x)-1)**2)\n",
    "\n",
    "# list comprehension\n",
    "results = [integrate.quad(integrand,0,1/u,args=(u,))[0]*u**3 for u in us]"
   ]
  },
  {
   "cell_type": "code",
   "execution_count": 156,
   "metadata": {},
   "outputs": [
    {
     "name": "stdout",
     "output_type": "stream",
     "text": [
      "8.93 ms ± 120 µs per loop (mean ± std. dev. of 7 runs, 100 loops each)\n"
     ]
    }
   ],
   "source": [
    "%%timeit\n",
    "\n",
    "# Define the given integrand\n",
    "integrand = lambda x: (x**4 * np.exp(x))/((np.exp(x)-1)**2)\n",
    "\n",
    "# list comprehension\n",
    "results = [integrate.quad(integrand,0,1/u)[0]*u**3 for u in us]"
   ]
  },
  {
   "cell_type": "code",
   "execution_count": 157,
   "metadata": {},
   "outputs": [
    {
     "name": "stdout",
     "output_type": "stream",
     "text": [
      "9.05 ms ± 96.7 µs per loop (mean ± std. dev. of 7 runs, 100 loops each)\n"
     ]
    }
   ],
   "source": [
    "%%timeit\n",
    "\n",
    "# Define the given integrand\n",
    "integrand = lambda x: (x**4 * np.exp(x))/((np.exp(x)-1)**2)\n",
    "\n",
    "map_integrand = lambda u: integrate.quad(integrand,0,1/u)[0]*u**3\n",
    "\n",
    "# list comprehension\n",
    "results = map(map_integrand, us)\n",
    "list(results)"
   ]
  }
 ],
 "metadata": {
  "kernelspec": {
   "display_name": "base",
   "language": "python",
   "name": "python3"
  },
  "language_info": {
   "codemirror_mode": {
    "name": "ipython",
    "version": 3
   },
   "file_extension": ".py",
   "mimetype": "text/x-python",
   "name": "python",
   "nbconvert_exporter": "python",
   "pygments_lexer": "ipython3",
   "version": "3.9.13"
  },
  "orig_nbformat": 4
 },
 "nbformat": 4,
 "nbformat_minor": 2
}
